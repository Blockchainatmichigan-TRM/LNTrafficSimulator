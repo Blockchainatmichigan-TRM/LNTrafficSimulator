{
 "cells": [
  {
   "cell_type": "markdown",
   "metadata": {},
   "source": [
    "# 1. Download data\n",
    "\n",
    "**Execute this step only...**\n",
    "- if you have not previously downloaded the data provided for the `lnsimulator` GitHub [repository](https://github.com/ferencberes/LNTrafficSimulator)\n",
    "\n",
    "**OR**\n",
    "- if you are running this notebook on [Binder](https://mybinder.org/)"
   ]
  },
  {
   "cell_type": "code",
   "execution_count": null,
   "metadata": {},
   "outputs": [],
   "source": [
    "%%bash\n",
    "wget https://dms.sztaki.hu/~fberes/ln/ln_data_2019-10-29.zip\n",
    "unzip ln_data_2019-10-29.zip\n",
    "mv ln_data .."
   ]
  },
  {
   "cell_type": "markdown",
   "metadata": {},
   "source": [
    "## 2. Prepare LN data\n",
    "\n",
    "In order to run the simulation you need to provide LN snapshots as well as information about merchants nodes.\n",
    "\n",
    "### LN snapshots\n",
    "\n",
    "The network structure is fed to `lnsimulator` in the form of LN snapshots. Raw JSON files as well as preprocessed payment channel data can be used as input."
   ]
  },
  {
   "cell_type": "markdown",
   "metadata": {},
   "source": [
    "#### Load data from JSON file"
   ]
  },
  {
   "cell_type": "code",
   "execution_count": null,
   "metadata": {},
   "outputs": [],
   "source": [
    "from lnsimulator.ln_utils import preprocess_json_file\n",
    "\n",
    "data_dir = \"../ln_data/\" # path to the ln_data folder that contains the downloaded data\n",
    "directed_edges = preprocess_json_file(\"%s/sample.json\" % data_dir)"
   ]
  },
  {
   "cell_type": "markdown",
   "metadata": {},
   "source": [
    "### Merchants\n",
    "\n",
    "We provided the list of LN merchants that we used in our experiments. This merchant information was collected in early 2019."
   ]
  },
  {
   "cell_type": "code",
   "execution_count": null,
   "metadata": {},
   "outputs": [],
   "source": [
    "import pandas as pd\n",
    "node_meta = pd.read_csv(\"%s/1ml_meta_data.csv\" % data_dir)\n",
    "providers = list(node_meta[\"pub_key\"])"
   ]
  },
  {
   "cell_type": "markdown",
   "metadata": {},
   "source": [
    "## 3. Configuration\n",
    "\n",
    "First we give you the list of main parameters.\n",
    "\n",
    "| Parameter | Description |\n",
    "|     :---      |   :---   |\n",
    "| `amount` |  value of each simulated transaction in satoshis  |\n",
    "| `count`  | number of random transactions to sample  |\n",
    "| `epsilon` |  ratio of merchants among transactions endpoints  |\n",
    "| `drop_disabled` | drop temporarily disabled channels |\n",
    "| `drop_low_cap` | drop channels with capacity less than `amount` |\n",
    "| `with_depletion` | the available channel capacity is maintained for both endpoints |\n",
    "\n",
    "You can initialize the traffic simulator by providing the network structure, merchants information and the former parameters."
   ]
  },
  {
   "cell_type": "code",
   "execution_count": null,
   "metadata": {},
   "outputs": [],
   "source": [
    "import lnsimulator.simulator.transaction_simulator as ts\n",
    "\n",
    "amount = 60000\n",
    "count = 7000\n",
    "epsilon = 0.8\n",
    "drop_disabled = True\n",
    "drop_low_cap = True\n",
    "with_depletion = True\n",
    "\n",
    "simulator = ts.TransactionSimulator(directed_edges, providers, amount, count, drop_disabled=drop_disabled, drop_low_cap=drop_low_cap, epsilon=epsilon, with_depletion=with_depletion)"
   ]
  },
  {
   "cell_type": "markdown",
   "metadata": {},
   "source": [
    "## 4. Estimating daily income and traffic\n",
    "\n",
    "### i.) Transactions\n",
    "\n",
    "The simulator samples a set of random transactions (during the initialization) that will be used for the estimation of daily node traffic and routing income. You can access the sampled transactions in the form of a `pandas.DataFrame`."
   ]
  },
  {
   "cell_type": "code",
   "execution_count": null,
   "metadata": {},
   "outputs": [],
   "source": [
    "transactions = simulator.transactions\n",
    "print(transactions.head())\n",
    "print(transactions.shape)"
   ]
  },
  {
   "cell_type": "markdown",
   "metadata": {},
   "source": [
    "### ii.) Run simulation\n",
    "\n",
    "In this step the simulator searches for cheapest payment paths from transaction senders to its receivers. Channel capacity changes are well maintained during the simulation. "
   ]
  },
  {
   "cell_type": "code",
   "execution_count": null,
   "metadata": {},
   "outputs": [],
   "source": [
    "_, _, all_router_fees, _ = simulator.simulate(weight=\"total_fee\", with_node_removals=False)"
   ]
  },
  {
   "cell_type": "markdown",
   "metadata": {},
   "source": [
    "### iii.) Results\n",
    "\n",
    "After payment simulation you can export the results as well as calculate traffic and income statistics for LN nodes."
   ]
  },
  {
   "cell_type": "code",
   "execution_count": null,
   "metadata": {},
   "outputs": [],
   "source": [
    "output_dir = \"test\"\n",
    "total_income, total_fee = simulator.export(output_dir)"
   ]
  },
  {
   "cell_type": "code",
   "execution_count": null,
   "metadata": {},
   "outputs": [],
   "source": [
    "total_income.set_index(\"node\").head(10)"
   ]
  }
 ],
 "metadata": {
  "kernelspec": {
   "display_name": "Python 3",
   "language": "python",
   "name": "python3"
  },
  "language_info": {
   "codemirror_mode": {
    "name": "ipython",
    "version": 3
   },
   "file_extension": ".py",
   "mimetype": "text/x-python",
   "name": "python",
   "nbconvert_exporter": "python",
   "pygments_lexer": "ipython3",
   "version": "3.6.10"
  }
 },
 "nbformat": 4,
 "nbformat_minor": 4
}
