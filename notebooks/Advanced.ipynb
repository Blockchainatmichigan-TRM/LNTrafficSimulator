{
 "cells": [
  {
   "cell_type": "markdown",
   "metadata": {},
   "source": [
    "# 1. Download data\n",
    "\n",
    "**Execute this step only...**\n",
    "- if you have not previously downloaded the data provided for the `lnsimulator` GitHub [repository](https://github.com/ferencberes/LNTrafficSimulator)\n",
    "\n",
    "**OR**\n",
    "- if you are running this notebook on [Binder](https://mybinder.org/)"
   ]
  },
  {
   "cell_type": "code",
   "execution_count": null,
   "metadata": {},
   "outputs": [],
   "source": [
    "%%bash\n",
    "wget https://dms.sztaki.hu/~fberes/ln/ln_data_2019-10-29.zip\n",
    "unzip ln_data_2019-10-29.zip\n",
    "mv ln_data .."
   ]
  },
  {
   "cell_type": "markdown",
   "metadata": {},
   "source": [
    "## 2. Preparation\n",
    "\n",
    "Quickly execute all steps (e.g. imports, loading channel and merchant data) needed before advanced experiments "
   ]
  },
  {
   "cell_type": "code",
   "execution_count": null,
   "metadata": {},
   "outputs": [],
   "source": [
    "from lnsimulator.ln_utils import preprocess_json_file\n",
    "import lnsimulator.simulator.transaction_simulator as ts\n",
    "\n",
    "data_dir = \"../ln_data/\" # path to the ln_data folder that contains the downloaded data\n",
    "directed_edges = preprocess_json_file(\"%s/sample.json\" % data_dir)\n",
    "\n",
    "import pandas as pd\n",
    "node_meta = pd.read_csv(\"%s/1ml_meta_data.csv\" % data_dir)\n",
    "providers = list(node_meta[\"pub_key\"])\n",
    "\n",
    "# the number of simulated payments and the payment value is fixed in this notebook\n",
    "\n",
    "amount = 60000\n",
    "count = 7000"
   ]
  },
  {
   "cell_type": "markdown",
   "metadata": {},
   "source": [
    "## 3. Parameters explained\n",
    "\n",
    "Here is the list of main parameters. **By the word \"transaction\" we refer to LN payments.**\n",
    "\n",
    "| Parameter | Description | Default value |\n",
    "|     :---      |   :---   | :---\n",
    "| `amount` |  value of each simulated transaction in satoshis  | **Must be set** |\n",
    "| `count`  | number of random transactions to sample  | **Must be set** |\n",
    "| `epsilon` |  ratio of merchants among transactions endpoints  | 0.8 |\n",
    "| `drop_disabled` | drop temporarily disabled channels | True |\n",
    "| `drop_low_cap` | drop channels with capacity less than `amount` | True |\n",
    "| `with_depletion` | the available channel capacity is maintained for both endpoints | True |\n",
    "\n",
    "The following examples will help you to understand the effect of each parameter. As `amount` and `count` are very straightforward parameters we will start with how to set merchant ratio for payment receivers."
   ]
  },
  {
   "cell_type": "markdown",
   "metadata": {},
   "source": [
    "### i.) Merchant ratio for payment receivers\n",
    "\n",
    "The number of unique receivers is the highest when **receivers sampled uniformly at random** (`epsilon=0.0`) while you have the chance to send payments **only to merchants** (`epsilon=1.0`). In most of our experiments we sample merchant receivers with high probability (`epsilon=0.8`) but we also select random receivers as well with small probability."
   ]
  },
  {
   "cell_type": "code",
   "execution_count": null,
   "metadata": {},
   "outputs": [],
   "source": [
    "only_merchant_receivers = ts.TransactionSimulator(directed_edges, providers, amount, count, epsilon=1.0)\n",
    "many_merchant_receivers = ts.TransactionSimulator(directed_edges, providers, amount, count, epsilon=0.8)\n",
    "uniform_receivers = ts.TransactionSimulator(directed_edges, providers, amount, count, epsilon=0.0)\n",
    "print(only_merchant_receivers.transactions[\"target\"].nunique())\n",
    "print(many_merchant_receivers.transactions[\"target\"].nunique())\n",
    "print(uniform_receivers.transactions[\"target\"].nunique())"
   ]
  },
  {
   "cell_type": "markdown",
   "metadata": {},
   "source": [
    "### ii.) Control channel exclusion with `drop_disabled` and `drop_low_cap`\n",
    "\n",
    "Channels can be temporarily disabled for a given snapshot while active for others. If you want to **enable disabled channels** in your experiments then use `drop_disabled=False`. But "
   ]
  },
  {
   "cell_type": "code",
   "execution_count": null,
   "metadata": {},
   "outputs": [],
   "source": [
    "default_sim = ts.TransactionSimulator(directed_edges, providers, amount, count, drop_disabled=True, drop_low_cap=True)\n",
    "with_disabled_sim = ts.TransactionSimulator(directed_edges, providers, amount, count, drop_disabled=False, drop_low_cap=True)\n",
    "print(default_sim.edges.shape)\n",
    "print(with_disabled_sim.edges.shape)"
   ]
  },
  {
   "cell_type": "markdown",
   "metadata": {},
   "source": [
    "A payment can only be forwarded on a given channel if the channel capacity is at least the value of the payment (`drop_low_cap=True`). But in the simulation you have the possibility to disabled this condition (`drop_low_cap=False`)."
   ]
  },
  {
   "cell_type": "code",
   "execution_count": null,
   "metadata": {},
   "outputs": [],
   "source": [
    "with_lowcap_sim = ts.TransactionSimulator(directed_edges, providers, amount, count, drop_disabled=False, drop_low_cap=False)\n",
    "print(with_lowcap_sim.edges.shape)"
   ]
  },
  {
   "cell_type": "markdown",
   "metadata": {},
   "source": [
    "### iii.) Updating node balances with payments\n",
    "\n",
    "Individual balances of LN nodes is a private data but `lnsimulator` can **keep track of capacity imbalances** (`with_depletion=True`) as payments are executed on the fly. After distributing capacities randomly between related channel endpoints (initialization step), our simulator can monitor whether a node has enough outbound capacity on a given channel to forward the upcoming payment with respect to the payment value. This feature has several advantages:\n",
    "\n",
    "- ability to detect node capacity depletions in case of heavy one-way traffic\n",
    "- better understanding of payment failures\n",
    "\n",
    "In case you disable this feature (`with_depletion=False`) payments can pass a channel in a fixed direction infinitely many times as long as the payment value is at most the channel capacity.\n",
    "\n",
    "In the next example we observe the payment failure ratio with respect to the `with_depletio` parameter."
   ]
  },
  {
   "cell_type": "code",
   "execution_count": null,
   "metadata": {},
   "outputs": [],
   "source": [
    "sim_with_dep = ts.TransactionSimulator(directed_edges, providers, amount, count, with_depletion=True)\n",
    "_, _, _, _ = sim_with_dep.simulate(weight=\"total_fee\")"
   ]
  },
  {
   "cell_type": "code",
   "execution_count": null,
   "metadata": {},
   "outputs": [],
   "source": [
    "sim_wout_dep = ts.TransactionSimulator(directed_edges, providers, amount, count, with_depletion=False)\n",
    "_, _, _, _ = sim_wout_dep.simulate(weight=\"total_fee\")"
   ]
  },
  {
   "cell_type": "markdown",
   "metadata": {},
   "source": [
    "Transaction success rates are lower if capacity depletion is enabled (`with_depletion=True`). This indicates that **there are channels with heavy one-way traffic**."
   ]
  },
  {
   "cell_type": "code",
   "execution_count": null,
   "metadata": {},
   "outputs": [],
   "source": [
    "print(\"Succes rate with depletions:\", sim_with_dep.transactions[\"success\"].mean())\n",
    "print(\"Succes rate without depletions:\", sim_wout_dep.transactions[\"success\"].mean())"
   ]
  }
 ],
 "metadata": {
  "kernelspec": {
   "display_name": "Python 3",
   "language": "python",
   "name": "python3"
  },
  "language_info": {
   "codemirror_mode": {
    "name": "ipython",
    "version": 3
   },
   "file_extension": ".py",
   "mimetype": "text/x-python",
   "name": "python",
   "nbconvert_exporter": "python",
   "pygments_lexer": "ipython3",
   "version": "3.6.10"
  }
 },
 "nbformat": 4,
 "nbformat_minor": 4
}
